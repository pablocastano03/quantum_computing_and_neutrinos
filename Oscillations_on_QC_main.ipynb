{
 "cells": [
  {
   "cell_type": "code",
   "execution_count": 125,
   "metadata": {},
   "outputs": [],
   "source": [
    "import numpy as np\n",
    "from numpy import sin as Sin\n",
    "from numpy import cos as Cos\n",
    "from scipy.optimize import minimize\n",
    "import random\n",
    "from tabulate import tabulate\n",
    "\n",
    "import matplotlib.pyplot as plt\n",
    "\n",
    "from qiskit import Aer, execute, ClassicalRegister, QuantumRegister, QuantumCircuit, IBMQ"
   ]
  },
  {
   "cell_type": "code",
   "execution_count": 2,
   "metadata": {},
   "outputs": [],
   "source": [
    "paper_PMNS_dagger_params = (-0.6031, 7.412-4*np.pi, 0.7966,  1.0139, 0.7053, -8.065+4*np.pi)\n",
    "paper_PMNS_params        = (-0.7053, -1.3599,       0.7966, -1.0139, 0.6031,  2.0125)"
   ]
  },
  {
   "cell_type": "code",
   "execution_count": 3,
   "metadata": {},
   "outputs": [],
   "source": [
    "def V11(alpha, beta, gamma, delta, epsilon, zeta):\n",
    "    return Sin(beta/2.)*(Cos(alpha/2.)*(Cos(zeta/2.)*Sin(delta/2.)*Sin((epsilon + gamma)/2.) - Cos(delta/2.)*Cos((epsilon - gamma)/2.)*Sin(zeta/2.)) + \\\n",
    "           Sin(alpha/2.)*(-(Cos((epsilon + gamma)/2.)*Cos(zeta/2.)*Sin(delta/2.)) + Cos(delta/2.)*Sin((epsilon - gamma)/2.)*Sin(zeta/2.))) + \\\n",
    "           Cos(beta/2.)*(-(Sin(alpha/2.)*(Cos(delta/2.)*Cos(zeta/2.)*Sin((epsilon + gamma)/2.) + Cos((epsilon - gamma)/2.)*Sin(delta/2.)*Sin(zeta/2.))) + \\\n",
    "           Cos(alpha/2.)*(Cos(delta/2.)*Cos((epsilon + gamma)/2.)*Cos(zeta/2.) + Sin(delta/2.)*Sin((epsilon - gamma)/2.)*Sin(zeta/2.)))"
   ]
  },
  {
   "cell_type": "code",
   "execution_count": 4,
   "metadata": {},
   "outputs": [],
   "source": [
    "def V21(alpha, beta, gamma, delta, epsilon, zeta):\n",
    "    return Cos(beta/2.)*(Cos(delta/2.)*Cos(zeta/2.)*Sin((alpha + epsilon + gamma)/2.) - Cos((alpha - epsilon + gamma)/2.)*Sin(delta/2.)*Sin(zeta/2.)) + \\\n",
    "           Sin(beta/2.)*(-(Sin(alpha/2.)*(Cos(zeta/2.)*Sin(delta/2.)*Sin((epsilon + gamma)/2.) + Cos(delta/2.)*Cos((epsilon - gamma)/2.)*Sin(zeta/2.))) - \\\n",
    "           Cos(alpha/2.)*(Cos((epsilon + gamma)/2.)*Cos(zeta/2.)*Sin(delta/2.) + Cos(delta/2.)*Sin((epsilon - gamma)/2.)*Sin(zeta/2.)))"
   ]
  },
  {
   "cell_type": "code",
   "execution_count": 5,
   "metadata": {},
   "outputs": [],
   "source": [
    "def V31(alpha, beta, gamma, delta, epsilon, zeta):\n",
    "    return Sin(alpha/2.)*(-(Sin(beta/2.)*(Cos(delta/2.)*Cos(zeta/2.)*Sin((epsilon - gamma)/2.) + Cos((epsilon + gamma)/2.)*Sin(delta/2.)*Sin(zeta/2.))) + \\\n",
    "           Cos(beta/2.)*(Cos((epsilon - gamma)/2.)*Cos(zeta/2.)*Sin(delta/2.) - Cos(delta/2.)*Sin((epsilon + gamma)/2.)*Sin(zeta/2.))) + \\\n",
    "           Cos(alpha/2.)*(Cos(delta/2.)*(Cos((epsilon - gamma)/2.)*Cos(zeta/2.)*Sin(beta/2.) + Cos(beta/2.)*Cos((epsilon + gamma)/2.)*Sin(zeta/2.)) + \\\n",
    "           Sin(delta/2.)*(-(Cos(beta/2.)*Cos(zeta/2.)*Sin((epsilon - gamma)/2.)) + Sin(beta/2.)*Sin((epsilon + gamma)/2.)*Sin(zeta/2.)))"
   ]
  },
  {
   "cell_type": "code",
   "execution_count": 6,
   "metadata": {},
   "outputs": [],
   "source": [
    "def V41(alpha, beta, gamma, delta, epsilon, zeta):\n",
    "    return Sin(beta/2.)*(Cos(delta/2.)*Cos(zeta/2.)*Sin((alpha + epsilon - gamma)/2.) - Cos((alpha - epsilon - gamma)/2.)*Sin(delta/2.)*Sin(zeta/2.)) + \\\n",
    "           Cos(beta/2.)*(Sin(alpha/2.)*(Cos(zeta/2.)*Sin(delta/2.)*Sin((epsilon - gamma)/2.) + Cos(delta/2.)*Cos((epsilon + gamma)/2.)*Sin(zeta/2.)) + \\\n",
    "           Cos(alpha/2.)*(Cos((epsilon - gamma)/2.)*Cos(zeta/2.)*Sin(delta/2.) + Cos(delta/2.)*Sin((epsilon + gamma)/2.)*Sin(zeta/2.)))"
   ]
  },
  {
   "cell_type": "code",
   "execution_count": 7,
   "metadata": {},
   "outputs": [],
   "source": [
    "def V12(alpha, beta, gamma, delta, epsilon, zeta):\n",
    "    return -(Cos(beta/2.)*(Cos(delta/2.)*Cos(zeta/2.)*Sin((alpha + epsilon + gamma)/2.) + Cos((alpha - epsilon + gamma)/2.)*Sin(delta/2.)*Sin(zeta/2.))) + \\\n",
    "           Sin(beta/2.)*(Sin(alpha/2.)*(-(Cos(zeta/2.)*Sin(delta/2.)*Sin((epsilon + gamma)/2.)) + Cos(delta/2.)*Cos((epsilon - gamma)/2.)*Sin(zeta/2.)) + \\\n",
    "           Cos(alpha/2.)*(-(Cos((epsilon + gamma)/2.)*Cos(zeta/2.)*Sin(delta/2.)) + Cos(delta/2.)*Sin((epsilon - gamma)/2.)*Sin(zeta/2.)))"
   ]
  },
  {
   "cell_type": "code",
   "execution_count": 8,
   "metadata": {},
   "outputs": [],
   "source": [
    "def V22(alpha, beta, gamma, delta, epsilon, zeta):\n",
    "    return Sin(beta/2.)*(-(Cos(alpha/2.)*(Cos(zeta/2.)*Sin(delta/2.)*Sin((epsilon + gamma)/2.) + Cos(delta/2.)*Cos((epsilon - gamma)/2.)*Sin(zeta/2.))) + \\\n",
    "           Sin(alpha/2.)*(Cos((epsilon + gamma)/2.)*Cos(zeta/2.)*Sin(delta/2.) + Cos(delta/2.)*Sin((epsilon - gamma)/2.)*Sin(zeta/2.))) + \\\n",
    "           Cos(beta/2.)*(Sin(alpha/2.)*(-(Cos(delta/2.)*Cos(zeta/2.)*Sin((epsilon + gamma)/2.)) + Cos((epsilon - gamma)/2.)*Sin(delta/2.)*Sin(zeta/2.)) + \\\n",
    "           Cos(alpha/2.)*(Cos(delta/2.)*Cos((epsilon + gamma)/2.)*Cos(zeta/2.) - Sin(delta/2.)*Sin((epsilon - gamma)/2.)*Sin(zeta/2.)))"
   ]
  },
  {
   "cell_type": "code",
   "execution_count": 9,
   "metadata": {},
   "outputs": [],
   "source": [
    "def V32(alpha, beta, gamma, delta, epsilon, zeta):\n",
    "    return -(Sin(beta/2.)*(Cos(delta/2.)*Cos(zeta/2.)*Sin((alpha + epsilon - gamma)/2.) + Cos((alpha - epsilon - gamma)/2.)*Sin(delta/2.)*Sin(zeta/2.))) + \\\n",
    "           Cos(beta/2.)*(Sin(alpha/2.)*(Cos(zeta/2.)*Sin(delta/2.)*Sin((epsilon - gamma)/2.) - Cos(delta/2.)*Cos((epsilon + gamma)/2.)*Sin(zeta/2.)) + \\\n",
    "           Cos(alpha/2.)*(Cos((epsilon - gamma)/2.)*Cos(zeta/2.)*Sin(delta/2.) - Cos(delta/2.)*Sin((epsilon + gamma)/2.)*Sin(zeta/2.)))"
   ]
  },
  {
   "cell_type": "code",
   "execution_count": 10,
   "metadata": {},
   "outputs": [],
   "source": [
    "def V42(alpha, beta, gamma, delta, epsilon, zeta):\n",
    "    return -(Sin(alpha/2.)*(Sin(beta/2.)*(Cos(delta/2.)*Cos(zeta/2.)*Sin((epsilon - gamma)/2.) - Cos((epsilon + gamma)/2.)*Sin(delta/2.)*Sin(zeta/2.)) + \\\n",
    "           Cos(beta/2.)*(Cos((epsilon - gamma)/2.)*Cos(zeta/2.)*Sin(delta/2.) + Cos(delta/2.)*Sin((epsilon + gamma)/2.)*Sin(zeta/2.)))) + \\\n",
    "           Cos(alpha/2.)*(Cos(delta/2.)*(Cos((epsilon - gamma)/2.)*Cos(zeta/2.)*Sin(beta/2.) + Cos(beta/2.)*Cos((epsilon + gamma)/2.)*Sin(zeta/2.)) + \\\n",
    "           Sin(delta/2.)*(Cos(beta/2.)*Cos(zeta/2.)*Sin((epsilon - gamma)/2.) - Sin(beta/2.)*Sin((epsilon + gamma)/2.)*Sin(zeta/2.))) "
   ]
  },
  {
   "cell_type": "code",
   "execution_count": 11,
   "metadata": {},
   "outputs": [],
   "source": [
    "def V13(alpha, beta, gamma, delta, epsilon, zeta):\n",
    "    return Sin(alpha/2.)*(Sin(beta/2.)*(Cos(delta/2.)*Cos(zeta/2.)*Sin((epsilon + gamma)/2.) + Cos((epsilon - gamma)/2.)*Sin(delta/2.)*Sin(zeta/2.)) + \\\n",
    "           Cos(beta/2.)*(-(Cos((epsilon + gamma)/2.)*Cos(zeta/2.)*Sin(delta/2.)) + Cos(delta/2.)*Sin((epsilon - gamma)/2.)*Sin(zeta/2.))) - \\\n",
    "           Cos(alpha/2.)*(Cos(delta/2.)*(Cos((epsilon + gamma)/2.)*Cos(zeta/2.)*Sin(beta/2.) + Cos(beta/2.)*Cos((epsilon - gamma)/2.)*Sin(zeta/2.)) + \\\n",
    "           Sin(delta/2.)*(-(Cos(beta/2.)*Cos(zeta/2.)*Sin((epsilon + gamma)/2.)) + Sin(beta/2.)*Sin((epsilon - gamma)/2.)*Sin(zeta/2.)))"
   ]
  },
  {
   "cell_type": "code",
   "execution_count": 12,
   "metadata": {},
   "outputs": [],
   "source": [
    "def V23(alpha, beta, gamma, delta, epsilon, zeta):\n",
    "    return -(Sin(beta/2.)*(Cos(delta/2.)*Cos(zeta/2.)*Sin((alpha + epsilon + gamma)/2.) - Cos((alpha - epsilon + gamma)/2.)*Sin(delta/2.)*Sin(zeta/2.))) + \\\n",
    "           Cos(beta/2.)*(-(Sin(alpha/2.)*(Cos(zeta/2.)*Sin(delta/2.)*Sin((epsilon + gamma)/2.) + Cos(delta/2.)*Cos((epsilon - gamma)/2.)*Sin(zeta/2.))) - \\\n",
    "           Cos(alpha/2.)*(Cos((epsilon + gamma)/2.)*Cos(zeta/2.)*Sin(delta/2.) + Cos(delta/2.)*Sin((epsilon - gamma)/2.)*Sin(zeta/2.)))"
   ]
  },
  {
   "cell_type": "code",
   "execution_count": 13,
   "metadata": {},
   "outputs": [],
   "source": [
    "def V33(alpha, beta, gamma, delta, epsilon, zeta):\n",
    "    return -(Sin(beta/2.)*(Cos(alpha/2.)*(-(Cos(zeta/2.)*Sin(delta/2.)*Sin((epsilon - gamma)/2.)) + Cos(delta/2.)*Cos((epsilon + gamma)/2.)*Sin(zeta/2.)) + \\\n",
    "            Sin(alpha/2.)*(Cos((epsilon - gamma)/2.)*Cos(zeta/2.)*Sin(delta/2.) - Cos(delta/2.)*Sin((epsilon + gamma)/2.)*Sin(zeta/2.)))) + \\\n",
    "            Cos(beta/2.)*(-(Sin(alpha/2.)*(Cos(delta/2.)*Cos(zeta/2.)*Sin((epsilon - gamma)/2.) + Cos((epsilon + gamma)/2.)*Sin(delta/2.)*Sin(zeta/2.))) + \\\n",
    "            Cos(alpha/2.)*(Cos(delta/2.)*Cos((epsilon - gamma)/2.)*Cos(zeta/2.) + Sin(delta/2.)*Sin((epsilon + gamma)/2.)*Sin(zeta/2.)))"
   ]
  },
  {
   "cell_type": "code",
   "execution_count": 14,
   "metadata": {},
   "outputs": [],
   "source": [
    "def V43(alpha, beta, gamma, delta, epsilon, zeta):\n",
    "    return Cos(beta/2.)*(Cos(delta/2.)*Cos(zeta/2.)*Sin((alpha + epsilon - gamma)/2.) - Cos((alpha - epsilon - gamma)/2.)*Sin(delta/2.)*Sin(zeta/2.)) - \\\n",
    "            Sin(beta/2.)*(Sin(alpha/2.)*(Cos(zeta/2.)*Sin(delta/2.)*Sin((epsilon - gamma)/2.) + Cos(delta/2.)*Cos((epsilon + gamma)/2.)*Sin(zeta/2.)) + \\\n",
    "            Cos(alpha/2.)*(Cos((epsilon - gamma)/2.)*Cos(zeta/2.)*Sin(delta/2.) + Cos(delta/2.)*Sin((epsilon + gamma)/2.)*Sin(zeta/2.)))"
   ]
  },
  {
   "cell_type": "code",
   "execution_count": 15,
   "metadata": {},
   "outputs": [],
   "source": [
    "def V14(alpha, beta, gamma, delta, epsilon, zeta):\n",
    "    return Sin(beta/2.)*(Cos(delta/2.)*Cos(zeta/2.)*Sin((alpha + epsilon + gamma)/2.) + Cos((alpha - epsilon + gamma)/2.)*Sin(delta/2.)*Sin(zeta/2.)) + \\\n",
    "            Cos(beta/2.)*(Sin(alpha/2.)*(-(Cos(zeta/2.)*Sin(delta/2.)*Sin((epsilon + gamma)/2.)) + Cos(delta/2.)*Cos((epsilon - gamma)/2.)*Sin(zeta/2.)) +\\\n",
    "            Cos(alpha/2.)*(-(Cos((epsilon + gamma)/2.)*Cos(zeta/2.)*Sin(delta/2.)) + Cos(delta/2.)*Sin((epsilon - gamma)/2.)*Sin(zeta/2.)))"
   ]
  },
  {
   "cell_type": "code",
   "execution_count": 16,
   "metadata": {},
   "outputs": [],
   "source": [
    "def V24(alpha, beta, gamma, delta, epsilon, zeta):\n",
    "    return Sin(alpha/2.)*(Sin(beta/2.)*(Cos(delta/2.)*Cos(zeta/2.)*Sin((epsilon + gamma)/2.) - Cos((epsilon - gamma)/2.)*Sin(delta/2.)*Sin(zeta/2.)) + \\\n",
    "            Cos(beta/2.)*(Cos((epsilon + gamma)/2.)*Cos(zeta/2.)*Sin(delta/2.) + Cos(delta/2.)*Sin((epsilon - gamma)/2.)*Sin(zeta/2.))) - \\\n",
    "            Cos(alpha/2.)*(Cos(delta/2.)*(Cos((epsilon + gamma)/2.)*Cos(zeta/2.)*Sin(beta/2.) + Cos(beta/2.)*Cos((epsilon - gamma)/2.)*Sin(zeta/2.)) + \\\n",
    "            Sin(delta/2.)*(Cos(beta/2.)*Cos(zeta/2.)*Sin((epsilon + gamma)/2.) - Sin(beta/2.)*Sin((epsilon - gamma)/2.)*Sin(zeta/2.)))"
   ]
  },
  {
   "cell_type": "code",
   "execution_count": 17,
   "metadata": {},
   "outputs": [],
   "source": [
    "def V34(alpha, beta, gamma, delta, epsilon, zeta):\n",
    "    return -(Cos(beta/2.)*(Cos(delta/2.)*Cos(zeta/2.)*Sin((alpha + epsilon - gamma)/2.) + Cos((alpha - epsilon - gamma)/2.)*Sin(delta/2.)*Sin(zeta/2.))) - \\\n",
    "            Sin(beta/2.)*(Sin(alpha/2.)*(Cos(zeta/2.)*Sin(delta/2.)*Sin((epsilon - gamma)/2.) - Cos(delta/2.)*Cos((epsilon + gamma)/2.)*Sin(zeta/2.)) + \\\n",
    "            Cos(alpha/2.)*(Cos((epsilon - gamma)/2.)*Cos(zeta/2.)*Sin(delta/2.) - Cos(delta/2.)*Sin((epsilon + gamma)/2.)*Sin(zeta/2.)))"
   ]
  },
  {
   "cell_type": "code",
   "execution_count": 18,
   "metadata": {},
   "outputs": [],
   "source": [
    "def V44(alpha, beta, gamma, delta, epsilon, zeta):\n",
    "    return -(Sin(beta/2.)*(Cos(alpha/2.)*(Cos(zeta/2.)*Sin(delta/2.)*Sin((epsilon - gamma)/2.) + Cos(delta/2.)*Cos((epsilon + gamma)/2.)*Sin(zeta/2.)) - \\\n",
    "            Sin(alpha/2.)*(Cos((epsilon - gamma)/2.)*Cos(zeta/2.)*Sin(delta/2.) + Cos(delta/2.)*Sin((epsilon + gamma)/2.)*Sin(zeta/2.)))) + \\\n",
    "            Cos(beta/2.)*(Sin(alpha/2.)*(-(Cos(delta/2.)*Cos(zeta/2.)*Sin((epsilon - gamma)/2.)) + Cos((epsilon + gamma)/2.)*Sin(delta/2.)*Sin(zeta/2.)) + \\\n",
    "            Cos(alpha/2.)*(Cos(delta/2.)*Cos((epsilon - gamma)/2.)*Cos(zeta/2.) - Sin(delta/2.)*Sin((epsilon + gamma)/2.)*Sin(zeta/2.)))"
   ]
  },
  {
   "cell_type": "code",
   "execution_count": 19,
   "metadata": {},
   "outputs": [],
   "source": [
    "def V(params):\n",
    "    return np.array([\n",
    "                     [V11(*params), V12(*params), V13(*params), V14(*params)],\n",
    "                     [V21(*params), V22(*params), V23(*params), V24(*params)],\n",
    "                     [V31(*params), V32(*params), V33(*params), V34(*params)],\n",
    "                     [V41(*params), V42(*params), V43(*params), V44(*params)],\n",
    "                    ]\n",
    "                   )"
   ]
  },
  {
   "cell_type": "code",
   "execution_count": 20,
   "metadata": {},
   "outputs": [],
   "source": [
    "U_PMNS = [[0.821327, 0.149719, 0.55046, 0.],\n",
    "          [0.305724, 0.699143, -0.646322, 0.],\n",
    "          [-0.481617, 0.699131, 0.528452, 0.],\n",
    "          [0., 0., 0., 1.]]"
   ]
  },
  {
   "cell_type": "markdown",
   "metadata": {},
   "source": [
    "We want to fit the PMNS matrix to matrix V. We want to find some params such that the matrix V is the same as the PMNS Matrix. If we find params such that $$|U_{PMNS}-V(params)| = 0$$ for all rows and columns i and j, these params will be fit to the PMNS Matrix. Now, we must define a function for this likelihood:\n",
    "\n"
   ]
  },
  {
   "cell_type": "markdown",
   "metadata": {},
   "source": [
    "Now, we must start with actually evaluating the errors. We must choose a random computational basis to work with, and create some parameters for the PMNS from it. Then, we will use these parameters as the parameters for the gates in our quantum circuit. Our computational basis consists of some n-dimensional vectors, which must have norm of 1 and be orthogonal to eachother."
   ]
  },
  {
   "cell_type": "code",
   "execution_count": 21,
   "metadata": {},
   "outputs": [
    {
     "name": "stdout",
     "output_type": "stream",
     "text": [
      "['/Users/pablocastanobasurto/Desktop', '/Users/pablocastanobasurto/opt/anaconda3/lib/python38.zip', '/Users/pablocastanobasurto/opt/anaconda3/lib/python3.8', '/Users/pablocastanobasurto/opt/anaconda3/lib/python3.8/lib-dynload', '', '/Users/pablocastanobasurto/opt/anaconda3/lib/python3.8/site-packages', '/Users/pablocastanobasurto/opt/anaconda3/lib/python3.8/site-packages/aeosa', '/Users/pablocastanobasurto/opt/anaconda3/lib/python3.8/site-packages/IPython/extensions', '/Users/pablocastanobasurto/.ipython', '/Users/pablocastanobasurto/Desktop/Programming/qc_exploration/']\n"
     ]
    }
   ],
   "source": [
    "import sys \n",
    "sys.path.append('/Users/pablocastanobasurto/Desktop/Programming/qc_exploration/')\n",
    "print(sys.path)"
   ]
  },
  {
   "cell_type": "code",
   "execution_count": 30,
   "metadata": {},
   "outputs": [],
   "source": [
    "def matrix_likelihood(params, target_matrix):\n",
    "    # make a box\n",
    "    if np.any([p>2*np.pi for p in params]):\n",
    "        value = np.inf\n",
    "    elif np.any([p<-2*np.pi for p in params]):\n",
    "        value = np.inf\n",
    "    else:\n",
    "        mat   = V(tuple(params))\n",
    "        value = np.sum([np.abs(np.abs(mat[i,j]-target_matrix[i,j])) for i in range(4)\n",
    "                                                                    for j in range(4)])\n",
    "    return value\n",
    "\n",
    "\n",
    "#We define the functions that we will use to rotate the vectors by some arbitrary angles (thx, thy, thz). \n",
    "\n",
    "def x_rotation(thx, vector):\n",
    "    thx1 = np.radians(thx)\n",
    "    c, s = np.cos(thx1), np.sin(thx1)\n",
    "    R1 = [\n",
    "            [1, 0, 0 ,0], \n",
    "            [0, c, -s, 0], \n",
    "            [0, s, c, 0], \n",
    "            [0, 0, 0, 1]\n",
    "        ]\n",
    "    return np.matmul(R1, vector)\n",
    "    \n",
    "def y_rotation(thy, vector):\n",
    "    thy1 = np.radians(thy)\n",
    "    c, s = np.cos(thy1), np.sin(thy1)\n",
    "    R2 = [\n",
    "            [c, 0, -s,0], \n",
    "            [0, 1, 0, 0], \n",
    "            [s, 0, c, 0],\n",
    "            [0, 0, 0, 1]\n",
    "        ]\n",
    "    return np.matmul(R2, vector)\n",
    "\n",
    "def z_rotation(thz, vector):\n",
    "    thz1 = np.radians(thz)\n",
    "    c, s = np.cos(thz1), np.sin(thz1)\n",
    "    R3 = [\n",
    "            [c, -s, 0,0], \n",
    "            [s, c, 0, 0], \n",
    "            [0, 0, 1, 0],\n",
    "            [0, 0, 0, 1]\n",
    "        ]\n",
    "    return np.matmul(R3, vector)\n",
    "\n",
    "#DEFINE A FUNCTION THAT ROTATES A VECTOR BY ARBITRARY THX, THY AND THZ. Then, we will rotate each vector in non_rotated vectors by applying this function to it.            \n",
    "\n",
    "def full_rotation(thx, thy, thz, vector):\n",
    "    vector1 = x_rotation(thx, vector)\n",
    "    vector2 = y_rotation(thy, vector1)\n",
    "    vector3 = z_rotation(thz, vector2)\n",
    "    return(vector3)\n",
    "\n",
    "#DEFINE THE FUNCITONS FOR RUNNING ON THE QC\n",
    "\n",
    "def run_on_QC(params1, params2):\n",
    "    from three_neutrino import ThreeNuOscillator\n",
    "    loee = np.linspace(0, 1200, 21)\n",
    "    n = 10000\n",
    "    sim_results = np.zeros((4,len(loee)))\n",
    "    for i, LE in enumerate(loee):\n",
    "        tno = ThreeNuOscillator('numu')\n",
    "        tno.apply_rotation(param=params1)\n",
    "        tno.propoagate(LE)\n",
    "        tno.apply_rotation(param=params2)\n",
    "        tno.measure()\n",
    "        job = execute(tno.qc, Aer.get_backend('qasm_simulator'), shots=n)\n",
    "        counts = job.result().get_counts(tno.qc)\n",
    "        return(counts)\n",
    "        #for j, (key, val) in enumerate(sorted(counts.items())):\n",
    "            #sim_results[j, i] = float(val)/n\n",
    "        #return(sim_results[j,i])\n",
    "            \n",
    "def plot_the_results(simulation_results):\n",
    "    labels = [r'$\\nu_{e}$', r'$\\nu_{\\mu}$', r'$\\nu_{\\tau}$', ]\n",
    "    cs     = ['#56aa69',     '#ffbf6e',      '#4d528a']\n",
    "    qc_results = np.load('/Users/pablocastanobasurto/Desktop/Programming/qc_exploration/three_neutrino_qc.npy') # Load results from actual quantum computer\n",
    "    plt.figure(figsize=[10,6])\n",
    "    for i, (c, lab) in enumerate(zip(cs, labels)):\n",
    "        plt.scatter(loee, qc_results[i], color=c)\n",
    "        plt.plot(loee, sim_results[i], label=lab, color=c)\n",
    "    plt.legend(fontsize=28, ncol=3,loc='upper center', frameon=False)\n",
    "    plt.xlim(0, 1200)\n",
    "    plt.ylim(0, 1.4)\n",
    "    plt.xlabel(r'$L/E~\\left(\\rm{km}\\,\\rm{GeV}^{-1}\\right)$')\n",
    "    plt.ylabel(r'$P\\left(\\nu_{\\mu}\\rightarrow\\nu_{\\alpha}\\right)$')\n",
    "    plt.show()\n",
    "    \n",
    "def make_counts_error(counts, p0_01 = 0.01, p0_10 = 0.02, p1_01 = 0.03, p1_10 = 0.04):\n",
    "    \n",
    "    sim_results_error = np.full((2, n), np.nan) # premake array which we will fill with our results\n",
    "    container = np.full((2, n), np.nan) # premake array which we will fill with our results\n",
    "    start = 0\n",
    "    for key, val in counts.items():\n",
    "        for i in range(val):\n",
    "            container[:,i+start] = [x for x in str(key)]\n",
    "        start += val\n",
    "\n",
    "    rand_ns1 = np.random.rand(n) # Make some random numbers between 0 and 1\n",
    "    rand_ns2 = np.random.rand(n) # Make some random numbers between 0 and 1\n",
    "    rand_ns3 = np.random.rand(n) # Make some random numbers between 0 and 1\n",
    "    rand_ns4 = np.random.rand(n) # Make some random numbers between 0 and 1\n",
    "    sim_results_error[0] = np.where(rand_ns1>p0_01, container[0], 1-container[0])\n",
    "    sim_results_error[1] = np.where(rand_ns2>p1_01, container[1], 1-container[1])\n",
    "    sim_results_error[0] = np.where(rand_ns1>p0_10, container[0], 1-container[0])\n",
    "    sim_results_error[1] = np.where(rand_ns2>p1_10, container[1], 1-container[1])\n",
    "    counts_error = {'11':0, '00':0, '01':0, '10':0}\n",
    "    for entry in sim_results_error.T: # gather things back into a dictionary\n",
    "        key = str(int(entry[0]))+str(int(entry[1]))\n",
    "        counts_error[key] += 1\n",
    "        return counts_error\n"
   ]
  },
  {
   "cell_type": "code",
   "execution_count": 34,
   "metadata": {},
   "outputs": [
    {
     "data": {
      "image/png": "[encoded data removed]",
      "text/plain": [
       "<Figure size 720x432 with 1 Axes>"
      ]
     },
     "metadata": {
      "needs_background": "light"
     },
     "output_type": "display_data"
    }
   ],
   "source": [
    "'''from three_neutrino import ThreeNuOscillator\n",
    "\n",
    "loee = np.linspace(0, 1200, 21)\n",
    "n = 10000\n",
    "sim_results = np.zeros((4,len(loee)))\n",
    "for i, LE in enumerate(loee):\n",
    "    tno = ThreeNuOscillator('numu')\n",
    "    tno.apply_rotation(param=paper_PMNS_params)\n",
    "    tno.propoagate(LE)\n",
    "    tno.apply_rotation(param=paper_PMNS_dagger_params)\n",
    "    tno.measure()\n",
    "    job = execute(tno.qc, Aer.get_backend('qasm_simulator'), shots=n)\n",
    "    counts = job.result().get_counts(tno.qc)\n",
    "    for j, (key, val) in enumerate(sorted(counts.items())):\n",
    "        sim_results[j, i] = float(val)/n\n",
    "\n",
    "labels = [r'$\\nu_{e}$', r'$\\nu_{\\mu}$', r'$\\nu_{\\tau}$', ]\n",
    "cs     = ['#56aa69',     '#ffbf6e',      '#4d528a']\n",
    "qc_results = np.load('/Users/pablocastanobasurto/Desktop/Programming/qc_exploration/three_neutrino_qc.npy') # Load results from actual quantum computer\n",
    "plt.figure(figsize=[10,6])\n",
    "for i, (c, lab) in enumerate(zip(cs, labels)):\n",
    "    plt.scatter(loee, qc_results[i], color=c)\n",
    "    plt.plot(loee, sim_results[i], label=lab, color=c)\n",
    "plt.legend(fontsize=28, ncol=3,loc='upper center', frameon=False)\n",
    "plt.xlim(0, 1200)\n",
    "plt.ylim(0, 1.4)\n",
    "plt.xlabel(r'$L/E~\\left(\\rm{km}\\,\\rm{GeV}^{-1}\\right)$')\n",
    "plt.ylabel(r'$P\\left(\\nu_{\\mu}\\rightarrow\\nu_{\\alpha}\\right)$')\n",
    "plt.show()'''"
   ]
  },
  {
   "cell_type": "code",
   "execution_count": 35,
   "metadata": {},
   "outputs": [
    {
     "name": "stdout",
     "output_type": "stream",
     "text": [
      "{'00': 325, '01': 6565, '10': 3110}\n",
      "{'11': 398, '00': 643, '01': 6060, '10': 2899}\n"
     ]
    }
   ],
   "source": [
    "'''p0 = 0.05\n",
    "p1 = 0.03\n",
    "\n",
    "sim_results_error = np.full((2, n), np.nan) # premake array which we will fill with our results\n",
    "container = np.full((2, n), np.nan) # premake array which we will fill with our results\n",
    "start = 0\n",
    "for key, val in counts.items():\n",
    "    for i in range(val):\n",
    "        container[:,i+start] = [x for x in str(key)]\n",
    "    start += val\n",
    "\n",
    "rand_ns1 = np.random.rand(n) # Make some random numbers between 0 and 1\n",
    "rand_ns2 = np.random.rand(n) # Make some random numbers between 0 and 1\n",
    "sim_results_error[0] = np.where(rand_ns1>p0, container[0], 1-container[0])\n",
    "sim_results_error[1] = np.where(rand_ns2>p1, container[1], 1-container[1])\n",
    "counts_error = {'11':0, '00':0, '01':0, '10':0}\n",
    "for entry in sim_results_error.T: # gather things back into a dictionary\n",
    "    key = str(int(entry[0]))+str(int(entry[1]))\n",
    "    counts_error[key] += 1\n",
    "print(counts)\n",
    "print(counts_error)'''"
   ]
  },
  {
   "cell_type": "code",
   "execution_count": 138,
   "metadata": {},
   "outputs": [
    {
     "name": "stdout",
     "output_type": "stream",
     "text": [
      "[259.0146167628177, 75.14805187862505, 65.8861719257784, 0.0928]\n",
      "[95.26313070940712, 233.558865240681, 168.46663583055187, 0.095]\n",
      "------------------------\n",
      "The smallest error is:  0.0928\n",
      "-----------------  --------------------------------------\n",
      "\u001b[1mx-rotation-angles\u001b[0m  [259.0146167628177, 95.26313070940712]\n",
      "\u001b[1my-rotation-angles\u001b[0m  [75.14805187862505, 233.558865240681]\n",
      "\u001b[1mz-rotation-angles\u001b[0m  [65.8861719257784, 168.46663583055187]\n",
      "\u001b[1m% error\u001b[0m            [0.0928, 0.095]\n",
      "-----------------  --------------------------------------\n"
     ]
    }
   ],
   "source": [
    "N = 1000\n",
    "minimal_error_ones = []\n",
    "list_with_all_percentage_errors = []\n",
    "\n",
    "for i in range(N):\n",
    "    \n",
    "    vector = np.random.random(size=(4)) #define a random vector\n",
    "    ths = tuple(np.random.rand(3)*360) \n",
    "    R_cm = (full_rotation(*ths, [[1,0,0,0], [0,1,0,0],[0,0,1,0],[0,0,0,1]]))\n",
    "    R_cf = (np.matmul(np.array(U_PMNS), R_cm)) #find the 'PMNS prime'\n",
    "    \n",
    "    #add a smaller for loop here to run the params guesses\n",
    "    n_guesses = 100\n",
    "    first_guesses = [tuple(2*np.pi*(2*np.random.rand((6))-1)) for i in range(n_guesses)]\n",
    "    llhs = [matrix_likelihood(guess, R_cf) for guess in first_guesses] # evaluate likelihood for each guess\n",
    "    sorted_llhs, sorted_guesses = zip(*sorted(zip(llhs, first_guesses)))\n",
    "    best_guess = np.array(sorted_guesses[0]) # pick the guess that gave the lowest likelihood value\n",
    "    PMNS_fit = minimize(matrix_likelihood, best_guess, method='L-BFGS-B', tol=1e-15, args=R_cf) # run the minimizer starting from the best guess\n",
    "    PMNS_params = PMNS_fit.x\n",
    "    PMNS_dagger_params = (-PMNS_params[4],-PMNS_params[5],-PMNS_params[2],-PMNS_params[3],-PMNS_params[0],-PMNS_params[1],)\n",
    "    #print(r'The best fit parameters for this set of guesses are $\\alpha$=%s, $\\beta$=%s, $\\gamma$=%s, $\\delta$=%s, $\\epsilon$=%s, $\\zeta$=%s' % tuple(PMNS_params))\n",
    "    #print(np.log10(np.abs((V(PMNS_dagger_params)-R_cf)/R_cf))) #tells us how good the guesses are\n",
    "    #print([PMNS_dagger_params])\n",
    "    #print([PMNS_params])\n",
    "    #run the QC using these params\n",
    "    run_on_QC(PMNS_params, PMNS_dagger_params)\n",
    "    #plot_the_results(sim_results[j,i])\n",
    "    \n",
    "    #add the probabilistic flip of errors, probabilities of each bit flip are random\n",
    "    \n",
    "    p0_01 = 0.01\n",
    "    p0_10 = 0.02\n",
    "    p1_01 = 0.03\n",
    "    p1_10 = 0.04\n",
    "    n = (counts['00'] + counts['01'] +counts['10'])\n",
    "    \n",
    "    sim_results_error = np.full((2, n), np.nan) # premake array which we will fill with our results\n",
    "    container = np.full((2, n), np.nan) # premake array which we will fill with our results\n",
    "    start = 0\n",
    "    for key, val in counts.items():\n",
    "        for i in range(val):\n",
    "            container[:,i+start] = [x for x in str(key)]\n",
    "        start += val\n",
    "\n",
    "    rand_ns1 = np.random.rand(n) # Make some random numbers between 0 and 1\n",
    "    rand_ns2 = np.random.rand(n) # Make some random numbers between 0 and 1\n",
    "    rand_ns3 = np.random.rand(n) # Make some random numbers between 0 and 1\n",
    "    rand_ns4 = np.random.rand(n) # Make some random numbers between 0 and 1\n",
    "    sim_results_error[0] = np.where(rand_ns1>p0_01, container[0], 1-container[0])\n",
    "    sim_results_error[1] = np.where(rand_ns2>p1_01, container[1], 1-container[1])\n",
    "    sim_results_error[0] = np.where(rand_ns1>p0_10, container[0], 1-container[0])\n",
    "    sim_results_error[1] = np.where(rand_ns2>p1_10, container[1], 1-container[1])\n",
    "\n",
    "    counts_error = {'11':0, '00':0, '01':0, '10':0}\n",
    "    for entry in sim_results_error.T: # gather things back into a dictionary\n",
    "        key = str(int(entry[0]))+str(int(entry[1]))\n",
    "        counts_error[key] += 1\n",
    "    #print('The number of qubits with each value that we SHOULD have are: ', counts)\n",
    "    #print('The number of qubits with each value that we HAVE are: ', counts_error)\n",
    "    #print('The angles we are rotating the computational basis by are: ', ths)\n",
    "    \n",
    "    bitflip00= np.abs((counts['00'] - counts_error['00']))\n",
    "    bitflip01 = np.abs((counts['01'] - counts_error['01']))\n",
    "    bitflip10 = np.abs((counts['10'] - counts_error['10']))\n",
    "    bitflip11 = np.abs((0 + counts_error['11']))\n",
    "    how_far_off = (bitflip00 + bitflip01 + bitflip10 + bitflip11)/float(n)\n",
    "    Error_Function = [float(ths[0]), float(ths[1]), float(ths[2]), float(how_far_off)] #ADD VECTOR AND PMNS PARAMS HERE\n",
    "    #print(Error_Function)\n",
    "    if Error_Function[3] <= 0.095:\n",
    "        print(Error_Function)#take the ones with small error\n",
    "        minimal_error_ones.append(Error_Function)\n",
    "        list_with_all_percentage_errors.append(Error_Function[3])\n",
    "\n",
    "if len(minimal_error_ones) == 0: \n",
    "    print('There were no trials close enough to what we are looking for.')\n",
    "else:\n",
    "    #Add something over here that chooses the best out of all the vectors in the error function\n",
    "    smallest_error = min(list_with_all_percentage_errors)\n",
    "    print('------------------------')\n",
    "    print('The smallest error is: ', smallest_error)\n",
    "\n",
    "    x_rotation_angle_list = []\n",
    "    y_rotation_angle_list = []\n",
    "    z_rotation_angle_list = []\n",
    "    percentage_error_list = []\n",
    "\n",
    "    for i in minimal_error_ones:\n",
    "        x_rotation_angle_list.append(i[0])\n",
    "    for i in minimal_error_ones:\n",
    "        y_rotation_angle_list.append(i[1])\n",
    "    for i in minimal_error_ones:\n",
    "        z_rotation_angle_list.append(i[2])\n",
    "    for i in minimal_error_ones:\n",
    "        percentage_error_list.append(i[3])\n",
    "\n",
    "    print(tabulate([['\\033[1m'+'x-rotation-angles'+'\\033[0m', x_rotation_angle_list], ['\\033[1m'+'y-rotation-angles'+'\\033[0m', y_rotation_angle_list], ['\\033[1m'+'z-rotation-angles'+'\\033[0m', z_rotation_angle_list], ['\\033[1m'+'% error'+'\\033[0m', percentage_error_list]]))\n",
    "\n",
    "\n"
   ]
  },
  {
   "cell_type": "code",
   "execution_count": null,
   "metadata": {},
   "outputs": [],
   "source": [
    "best_result_to_date = [259.0146167628177, 75.14805187862505, 65.8861719257784, 0.0928]"
   ]
  },
  {
   "cell_type": "code",
   "execution_count": 139,
   "metadata": {},
   "outputs": [
    {
     "name": "stdout",
     "output_type": "stream",
     "text": [
      "------------------------\n",
      "The smallest error is:  0.0928\n",
      "-----------------  --------------------------------------\n",
      "\u001b[1mx-rotation-angles\u001b[0m  [259.0146167628177, 95.26313070940712]\n",
      "\u001b[1my-rotation-angles\u001b[0m  [75.14805187862505, 233.558865240681]\n",
      "\u001b[1mz-rotation-angles\u001b[0m  [65.8861719257784, 168.46663583055187]\n",
      "\u001b[1m% error\u001b[0m            [0.0928, 0.095]\n",
      "-----------------  --------------------------------------\n"
     ]
    }
   ],
   "source": [
    "#Add something over here that chooses the best out of all the vectors in the error function\n",
    "smallest_error = min(list_with_all_percentage_errors)\n",
    "print('------------------------')\n",
    "print('The smallest error is: ', smallest_error)\n",
    "       \n",
    "x_rotation_angle_list = []\n",
    "y_rotation_angle_list = []\n",
    "z_rotation_angle_list = []\n",
    "percentage_error_list = []\n",
    "\n",
    "for i in minimal_error_ones:\n",
    "    x_rotation_angle_list.append(i[0])\n",
    "for i in minimal_error_ones:\n",
    "    y_rotation_angle_list.append(i[1])\n",
    "for i in minimal_error_ones:\n",
    "    z_rotation_angle_list.append(i[2])\n",
    "for i in minimal_error_ones:\n",
    "    percentage_error_list.append(i[3])\n",
    "    \n",
    "print(tabulate([['\\033[1m'+'x-rotation-angles'+'\\033[0m', x_rotation_angle_list], ['\\033[1m'+'y-rotation-angles'+'\\033[0m', y_rotation_angle_list], ['\\033[1m'+'z-rotation-angles'+'\\033[0m', z_rotation_angle_list], ['\\033[1m'+'% error'+'\\033[0m', percentage_error_list]]))\n"
   ]
  },
  {
   "cell_type": "code",
   "execution_count": null,
   "metadata": {},
   "outputs": [],
   "source": []
  }
 ],
 "metadata": {
  "kernelspec": {
   "display_name": "Python 3",
   "language": "python",
   "name": "python3"
  },
  "language_info": {
   "codemirror_mode": {
    "name": "ipython",
    "version": 3
   },
   "file_extension": ".py",
   "mimetype": "text/x-python",
   "name": "python",
   "nbconvert_exporter": "python",
   "pygments_lexer": "ipython3",
   "version": "3.8.3"
  }
 },
 "nbformat": 4,
 "nbformat_minor": 4
}
